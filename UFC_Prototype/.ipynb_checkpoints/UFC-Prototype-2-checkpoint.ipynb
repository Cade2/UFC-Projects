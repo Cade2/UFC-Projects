{
 "cells": [
  {
   "cell_type": "code",
   "execution_count": 12,
   "id": "4cdd2de3-8f05-4f1b-98d0-6d8618819979",
   "metadata": {},
   "outputs": [
    {
     "name": "stdout",
     "output_type": "stream",
     "text": [
      "Last updated: 2025-01-23 22:25:26.942853\n"
     ]
    }
   ],
   "source": [
    "import datetime\n",
    "print(f\"Last updated: {datetime.datetime.now()}\")"
   ]
  },
  {
   "cell_type": "code",
   "execution_count": 5,
   "id": "0d2601b2-0105-42ca-8fc3-4dccd03ed435",
   "metadata": {},
   "outputs": [
    {
     "data": {
      "text/plain": [
       "EVENT          0\n",
       "BOUT           0\n",
       "OUTCOME        0\n",
       "WEIGHTCLASS    0\n",
       "METHOD         0\n",
       "ROUND          0\n",
       "TIME           0\n",
       "TIME FORMAT    0\n",
       "REFEREE        0\n",
       "DETAILS        0\n",
       "URL            0\n",
       "dtype: int64"
      ]
     },
     "execution_count": 5,
     "metadata": {},
     "output_type": "execute_result"
    }
   ],
   "source": [
    "import pandas as pd\n",
    "fight_results = pd.read_csv(\"fight_results.csv\")\n",
    "fight_results.isna().sum()"
   ]
  },
  {
   "cell_type": "code",
   "execution_count": 3,
   "id": "b0b90a8e-d269-49ad-8cae-f038fc0f1789",
   "metadata": {},
   "outputs": [
    {
     "data": {
      "text/plain": [
       "EVENT       0\n",
       "URL         0\n",
       "DATE        0\n",
       "LOCATION    0\n",
       "dtype: int64"
      ]
     },
     "execution_count": 3,
     "metadata": {},
     "output_type": "execute_result"
    }
   ],
   "source": [
    "events = pd.read_csv(\"fight_event.csv\")\n",
    "events.isna().sum()"
   ]
  },
  {
   "cell_type": "code",
   "execution_count": 4,
   "id": "8631b6df-3270-4832-a31f-855781166521",
   "metadata": {},
   "outputs": [
    {
     "data": {
      "text/plain": [
       "EVENT    0\n",
       "BOUT     0\n",
       "URL      0\n",
       "dtype: int64"
      ]
     },
     "execution_count": 4,
     "metadata": {},
     "output_type": "execute_result"
    }
   ],
   "source": [
    "fight_details = pd.read_csv(\"fight_details.csv\")\n",
    "fight_details.isna().sum()"
   ]
  },
  {
   "cell_type": "code",
   "execution_count": 6,
   "id": "11609906-a577-4c54-8eea-52048237b9b8",
   "metadata": {},
   "outputs": [
    {
     "data": {
      "text/plain": [
       "EVENT         0\n",
       "BOUT          0\n",
       "ROUND         0\n",
       "FIGHTER       0\n",
       "KD            0\n",
       "SIG.STR.      0\n",
       "SIG.STR. %    0\n",
       "TOTAL STR.    0\n",
       "TD            0\n",
       "TD %          0\n",
       "SUB.ATT       0\n",
       "REV.          0\n",
       "CTRL          0\n",
       "HEAD          0\n",
       "BODY          0\n",
       "LEG           0\n",
       "DISTANCE      0\n",
       "CLINCH        0\n",
       "GROUND        0\n",
       "dtype: int64"
      ]
     },
     "execution_count": 6,
     "metadata": {},
     "output_type": "execute_result"
    }
   ],
   "source": [
    "fight_stats = pd.read_csv(\"fight_stats.csv\")\n",
    "fight_stats.isna().sum()"
   ]
  },
  {
   "cell_type": "code",
   "execution_count": 9,
   "id": "bb572827-71d8-4947-b38d-b9a0e54fc33d",
   "metadata": {},
   "outputs": [
    {
     "data": {
      "text/plain": [
       "FIRST          2\n",
       "LAST           2\n",
       "NICKNAME    1913\n",
       "URL            0\n",
       "dtype: int64"
      ]
     },
     "execution_count": 9,
     "metadata": {},
     "output_type": "execute_result"
    }
   ],
   "source": [
    "fighter_details = pd.read_csv(\"fighter_details.csv\")\n",
    "fighter_details.isna().sum()"
   ]
  },
  {
   "cell_type": "code",
   "execution_count": 10,
   "id": "e3a3c0bd-1b91-4c2a-92bc-ce49f687b546",
   "metadata": {},
   "outputs": [
    {
     "name": "stderr",
     "output_type": "stream",
     "text": [
      "C:\\Users\\cadeb\\AppData\\Local\\Temp\\ipykernel_23228\\2569229660.py:1: FutureWarning: A value is trying to be set on a copy of a DataFrame or Series through chained assignment using an inplace method.\n",
      "The behavior will change in pandas 3.0. This inplace method will never work because the intermediate object on which we are setting values always behaves as a copy.\n",
      "\n",
      "For example, when doing 'df[col].method(value, inplace=True)', try using 'df.method({col: value}, inplace=True)' or df[col] = df[col].method(value) instead, to perform the operation inplace on the original object.\n",
      "\n",
      "\n",
      "  fighter_details[\"NICKNAME\"].fillna(\"\", inplace=True)\n"
     ]
    },
    {
     "data": {
      "text/plain": [
       "FIRST       2\n",
       "LAST        2\n",
       "NICKNAME    0\n",
       "URL         0\n",
       "dtype: int64"
      ]
     },
     "execution_count": 10,
     "metadata": {},
     "output_type": "execute_result"
    }
   ],
   "source": [
    "fighter_details[\"NICKNAME\"].fillna(\"\", inplace=True)\n",
    "fighter_details.isna().sum()"
   ]
  },
  {
   "cell_type": "code",
   "execution_count": 11,
   "id": "0cc1ecb3-d320-4979-9abf-1847a0e32fae",
   "metadata": {},
   "outputs": [
    {
     "data": {
      "text/plain": [
       "FIRST       0\n",
       "LAST        0\n",
       "NICKNAME    0\n",
       "URL         0\n",
       "dtype: int64"
      ]
     },
     "execution_count": 11,
     "metadata": {},
     "output_type": "execute_result"
    }
   ],
   "source": [
    "fighter_details.dropna(inplace=True)\n",
    "fighter_details.isna().sum()"
   ]
  },
  {
   "cell_type": "code",
   "execution_count": 8,
   "id": "a68664d5-7ff4-4d3e-bea0-0904955d4d66",
   "metadata": {},
   "outputs": [
    {
     "data": {
      "text/plain": [
       "FIGHTER    0\n",
       "HEIGHT     0\n",
       "WEIGHT     0\n",
       "REACH      0\n",
       "STANCE     0\n",
       "DOB        0\n",
       "URL        0\n",
       "dtype: int64"
      ]
     },
     "execution_count": 8,
     "metadata": {},
     "output_type": "execute_result"
    }
   ],
   "source": [
    "fighter_tott = pd.read_csv(\"fighter_tott.csv\")\n",
    "fighter_tott.isna().sum()"
   ]
  },
  {
   "cell_type": "code",
   "execution_count": null,
   "id": "d2362bd9-bdbd-4271-953b-a65dbe08bac3",
   "metadata": {},
   "outputs": [],
   "source": []
  }
 ],
 "metadata": {
  "kernelspec": {
   "display_name": "Python 3 (ipykernel)",
   "language": "python",
   "name": "python3"
  },
  "language_info": {
   "codemirror_mode": {
    "name": "ipython",
    "version": 3
   },
   "file_extension": ".py",
   "mimetype": "text/x-python",
   "name": "python",
   "nbconvert_exporter": "python",
   "pygments_lexer": "ipython3",
   "version": "3.12.7"
  }
 },
 "nbformat": 4,
 "nbformat_minor": 5
}
