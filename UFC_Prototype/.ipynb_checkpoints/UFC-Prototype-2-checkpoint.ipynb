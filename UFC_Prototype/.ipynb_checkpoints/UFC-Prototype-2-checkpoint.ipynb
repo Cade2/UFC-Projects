{
 "cells": [
  {
   "cell_type": "code",
   "execution_count": 19,
   "id": "4cdd2de3-8f05-4f1b-98d0-6d8618819979",
   "metadata": {},
   "outputs": [
    {
     "name": "stdout",
     "output_type": "stream",
     "text": [
      "Last updated: 2025-01-24 10:06:55.480902\n"
     ]
    }
   ],
   "source": [
    "import datetime\n",
    "print(f\"Last updated: {datetime.datetime.now()}\")"
   ]
  },
  {
   "cell_type": "code",
   "execution_count": 50,
   "id": "dd296d51-231a-4d82-8da9-f94df9ab08db",
   "metadata": {},
   "outputs": [],
   "source": [
    "import numpy as np"
   ]
  },
  {
   "cell_type": "code",
   "execution_count": 20,
   "id": "0d2601b2-0105-42ca-8fc3-4dccd03ed435",
   "metadata": {},
   "outputs": [
    {
     "data": {
      "text/plain": [
       "EVENT          0\n",
       "BOUT           0\n",
       "OUTCOME        0\n",
       "WEIGHTCLASS    0\n",
       "METHOD         0\n",
       "ROUND          0\n",
       "TIME           0\n",
       "TIME FORMAT    0\n",
       "REFEREE        0\n",
       "DETAILS        0\n",
       "URL            0\n",
       "dtype: int64"
      ]
     },
     "execution_count": 20,
     "metadata": {},
     "output_type": "execute_result"
    }
   ],
   "source": [
    "import pandas as pd\n",
    "fight_results = pd.read_csv(\"fight_results.csv\")\n",
    "fight_results.isna().sum()"
   ]
  },
  {
   "cell_type": "code",
   "execution_count": 21,
   "id": "b0b90a8e-d269-49ad-8cae-f038fc0f1789",
   "metadata": {},
   "outputs": [
    {
     "data": {
      "text/plain": [
       "EVENT       0\n",
       "URL         0\n",
       "DATE        0\n",
       "LOCATION    0\n",
       "dtype: int64"
      ]
     },
     "execution_count": 21,
     "metadata": {},
     "output_type": "execute_result"
    }
   ],
   "source": [
    "events = pd.read_csv(\"fight_event.csv\")\n",
    "events.isna().sum()"
   ]
  },
  {
   "cell_type": "code",
   "execution_count": 22,
   "id": "8631b6df-3270-4832-a31f-855781166521",
   "metadata": {},
   "outputs": [
    {
     "data": {
      "text/plain": [
       "EVENT    0\n",
       "BOUT     0\n",
       "URL      0\n",
       "dtype: int64"
      ]
     },
     "execution_count": 22,
     "metadata": {},
     "output_type": "execute_result"
    }
   ],
   "source": [
    "fight_details = pd.read_csv(\"fight_details.csv\")\n",
    "fight_details.isna().sum()"
   ]
  },
  {
   "cell_type": "code",
   "execution_count": 23,
   "id": "11609906-a577-4c54-8eea-52048237b9b8",
   "metadata": {},
   "outputs": [
    {
     "data": {
      "text/plain": [
       "EVENT         0\n",
       "BOUT          0\n",
       "ROUND         0\n",
       "FIGHTER       0\n",
       "KD            0\n",
       "SIG.STR.      0\n",
       "SIG.STR. %    0\n",
       "TOTAL STR.    0\n",
       "TD            0\n",
       "TD %          0\n",
       "SUB.ATT       0\n",
       "REV.          0\n",
       "CTRL          0\n",
       "HEAD          0\n",
       "BODY          0\n",
       "LEG           0\n",
       "DISTANCE      0\n",
       "CLINCH        0\n",
       "GROUND        0\n",
       "dtype: int64"
      ]
     },
     "execution_count": 23,
     "metadata": {},
     "output_type": "execute_result"
    }
   ],
   "source": [
    "fight_stats = pd.read_csv(\"fight_stats.csv\")\n",
    "fight_stats.isna().sum()"
   ]
  },
  {
   "cell_type": "code",
   "execution_count": 28,
   "id": "bb572827-71d8-4947-b38d-b9a0e54fc33d",
   "metadata": {},
   "outputs": [
    {
     "name": "stderr",
     "output_type": "stream",
     "text": [
      "C:\\Users\\cadeb\\AppData\\Local\\Temp\\ipykernel_20876\\1377183666.py:2: FutureWarning: A value is trying to be set on a copy of a DataFrame or Series through chained assignment using an inplace method.\n",
      "The behavior will change in pandas 3.0. This inplace method will never work because the intermediate object on which we are setting values always behaves as a copy.\n",
      "\n",
      "For example, when doing 'df[col].method(value, inplace=True)', try using 'df.method({col: value}, inplace=True)' or df[col] = df[col].method(value) instead, to perform the operation inplace on the original object.\n",
      "\n",
      "\n",
      "  fighter_details[\"NICKNAME\"].fillna(\"\", inplace=True)\n"
     ]
    },
    {
     "data": {
      "text/plain": [
       "FIRST       0\n",
       "LAST        0\n",
       "NICKNAME    0\n",
       "URL         0\n",
       "dtype: int64"
      ]
     },
     "execution_count": 28,
     "metadata": {},
     "output_type": "execute_result"
    }
   ],
   "source": [
    "fighter_details = pd.read_csv(\"fighter_details.csv\")\n",
    "fighter_details[\"NICKNAME\"].fillna(\"\", inplace=True)\n",
    "fighter_details.dropna(inplace=True)\n",
    "fighter_details.isna().sum()"
   ]
  },
  {
   "cell_type": "code",
   "execution_count": 27,
   "id": "a68664d5-7ff4-4d3e-bea0-0904955d4d66",
   "metadata": {},
   "outputs": [
    {
     "data": {
      "text/plain": [
       "FIGHTER    0\n",
       "HEIGHT     0\n",
       "WEIGHT     0\n",
       "REACH      0\n",
       "STANCE     0\n",
       "DOB        0\n",
       "URL        0\n",
       "dtype: int64"
      ]
     },
     "execution_count": 27,
     "metadata": {},
     "output_type": "execute_result"
    }
   ],
   "source": [
    "fighter_tott = pd.read_csv(\"fighter_tott.csv\")\n",
    "fighter_tott.isna().sum()"
   ]
  },
  {
   "cell_type": "code",
   "execution_count": 36,
   "id": "d2362bd9-bdbd-4271-953b-a65dbe08bac3",
   "metadata": {},
   "outputs": [
    {
     "data": {
      "text/plain": [
       "Unnamed: 0     0\n",
       "EVENT          0\n",
       "DATE           0\n",
       "LOCATION       0\n",
       "BOUT           0\n",
       "FIGHTER 1      0\n",
       "FIGHTER 2      0\n",
       "WINNER         0\n",
       "WEIGHTCLASS    0\n",
       "METHOD         0\n",
       "ROUND          0\n",
       "TIME           0\n",
       "TIME FORMAT    0\n",
       "REFEREE        0\n",
       "DETAILS        0\n",
       "URL            0\n",
       "dtype: int64"
      ]
     },
     "execution_count": 36,
     "metadata": {},
     "output_type": "execute_result"
    }
   ],
   "source": [
    "clean_fight_results = pd.read_csv(\"data/Cleaner_Fight_Results.csv\")\n",
    "clean_fight_results.isna().sum()"
   ]
  },
  {
   "cell_type": "code",
   "execution_count": 37,
   "id": "be632c31-db98-4417-a42a-629f209030c5",
   "metadata": {},
   "outputs": [
    {
     "data": {
      "text/html": [
       "<div>\n",
       "<style scoped>\n",
       "    .dataframe tbody tr th:only-of-type {\n",
       "        vertical-align: middle;\n",
       "    }\n",
       "\n",
       "    .dataframe tbody tr th {\n",
       "        vertical-align: top;\n",
       "    }\n",
       "\n",
       "    .dataframe thead th {\n",
       "        text-align: right;\n",
       "    }\n",
       "</style>\n",
       "<table border=\"1\" class=\"dataframe\">\n",
       "  <thead>\n",
       "    <tr style=\"text-align: right;\">\n",
       "      <th></th>\n",
       "      <th>Unnamed: 0</th>\n",
       "      <th>EVENT</th>\n",
       "      <th>DATE</th>\n",
       "      <th>LOCATION</th>\n",
       "      <th>BOUT</th>\n",
       "      <th>FIGHTER 1</th>\n",
       "      <th>FIGHTER 2</th>\n",
       "      <th>WINNER</th>\n",
       "      <th>WEIGHTCLASS</th>\n",
       "      <th>METHOD</th>\n",
       "      <th>ROUND</th>\n",
       "      <th>TIME</th>\n",
       "      <th>TIME FORMAT</th>\n",
       "      <th>REFEREE</th>\n",
       "      <th>DETAILS</th>\n",
       "      <th>URL</th>\n",
       "    </tr>\n",
       "  </thead>\n",
       "  <tbody>\n",
       "    <tr>\n",
       "      <th>0</th>\n",
       "      <td>0</td>\n",
       "      <td>UFC 311: Makhachev Vs. Moicano</td>\n",
       "      <td>January 18, 2025</td>\n",
       "      <td>Inglewood, California, USA</td>\n",
       "      <td>Islam Makhachev  vs  Renato Moicano</td>\n",
       "      <td>Islam Makhachev</td>\n",
       "      <td>Renato Moicano</td>\n",
       "      <td>Islam Makhachev</td>\n",
       "      <td>UFC Lightweight Title Bout</td>\n",
       "      <td>Submission</td>\n",
       "      <td>1</td>\n",
       "      <td>4:05</td>\n",
       "      <td>5 Rnd (5-5-5-5-5)</td>\n",
       "      <td>Herb Dean</td>\n",
       "      <td>D'Arce Choke On Ground</td>\n",
       "      <td>http://ufcstats.com/fight-details/daef1691c7d6...</td>\n",
       "    </tr>\n",
       "    <tr>\n",
       "      <th>1</th>\n",
       "      <td>1</td>\n",
       "      <td>UFC 311: Makhachev Vs. Moicano</td>\n",
       "      <td>January 18, 2025</td>\n",
       "      <td>Inglewood, California, USA</td>\n",
       "      <td>Merab Dvalishvili  vs  Umar Nurmagomedov</td>\n",
       "      <td>Merab Dvalishvili</td>\n",
       "      <td>Umar Nurmagomedov</td>\n",
       "      <td>Merab Dvalishvili</td>\n",
       "      <td>UFC Bantamweight Title Bout</td>\n",
       "      <td>Decision - Unanimous</td>\n",
       "      <td>5</td>\n",
       "      <td>5:00</td>\n",
       "      <td>5 Rnd (5-5-5-5-5)</td>\n",
       "      <td>Jason Herzog</td>\n",
       "      <td>Chris Leben 47 - 48.Chris Crail 46 - 49.Mike B...</td>\n",
       "      <td>http://ufcstats.com/fight-details/f39941b3743b...</td>\n",
       "    </tr>\n",
       "    <tr>\n",
       "      <th>2</th>\n",
       "      <td>2</td>\n",
       "      <td>UFC 311: Makhachev Vs. Moicano</td>\n",
       "      <td>January 18, 2025</td>\n",
       "      <td>Inglewood, California, USA</td>\n",
       "      <td>Jiri Prochazka  vs  Jamahal Hill</td>\n",
       "      <td>Jiri Prochazka</td>\n",
       "      <td>Jamahal Hill</td>\n",
       "      <td>Jiri Prochazka</td>\n",
       "      <td>Light Heavyweight Bout</td>\n",
       "      <td>KO/TKO</td>\n",
       "      <td>3</td>\n",
       "      <td>3:01</td>\n",
       "      <td>3 Rnd (5-5-5)</td>\n",
       "      <td>Mike Beltran</td>\n",
       "      <td>Punches to Head On Ground</td>\n",
       "      <td>http://ufcstats.com/fight-details/959fea398ffa...</td>\n",
       "    </tr>\n",
       "    <tr>\n",
       "      <th>3</th>\n",
       "      <td>3</td>\n",
       "      <td>UFC 311: Makhachev Vs. Moicano</td>\n",
       "      <td>January 18, 2025</td>\n",
       "      <td>Inglewood, California, USA</td>\n",
       "      <td>Jailton Almeida  vs  Serghei Spivac</td>\n",
       "      <td>Jailton Almeida</td>\n",
       "      <td>Serghei Spivac</td>\n",
       "      <td>Jailton Almeida</td>\n",
       "      <td>Heavyweight Bout</td>\n",
       "      <td>KO/TKO</td>\n",
       "      <td>1</td>\n",
       "      <td>4:53</td>\n",
       "      <td>3 Rnd (5-5-5)</td>\n",
       "      <td>Jason Herzog</td>\n",
       "      <td>Punches to Head From Back Control</td>\n",
       "      <td>http://ufcstats.com/fight-details/54d48b33e724...</td>\n",
       "    </tr>\n",
       "    <tr>\n",
       "      <th>4</th>\n",
       "      <td>4</td>\n",
       "      <td>UFC 311: Makhachev Vs. Moicano</td>\n",
       "      <td>January 18, 2025</td>\n",
       "      <td>Inglewood, California, USA</td>\n",
       "      <td>Kevin Holland  vs  Reinier de Ridder</td>\n",
       "      <td>Kevin Holland</td>\n",
       "      <td>Reinier de Ridder</td>\n",
       "      <td>Reinier de Ridder</td>\n",
       "      <td>Middleweight Bout</td>\n",
       "      <td>Submission</td>\n",
       "      <td>1</td>\n",
       "      <td>3:31</td>\n",
       "      <td>3 Rnd (5-5-5)</td>\n",
       "      <td>Frank Trigg</td>\n",
       "      <td>Rear Naked Choke</td>\n",
       "      <td>http://ufcstats.com/fight-details/69d63c057aeb...</td>\n",
       "    </tr>\n",
       "  </tbody>\n",
       "</table>\n",
       "</div>"
      ],
      "text/plain": [
       "   Unnamed: 0                           EVENT              DATE  \\\n",
       "0           0  UFC 311: Makhachev Vs. Moicano  January 18, 2025   \n",
       "1           1  UFC 311: Makhachev Vs. Moicano  January 18, 2025   \n",
       "2           2  UFC 311: Makhachev Vs. Moicano  January 18, 2025   \n",
       "3           3  UFC 311: Makhachev Vs. Moicano  January 18, 2025   \n",
       "4           4  UFC 311: Makhachev Vs. Moicano  January 18, 2025   \n",
       "\n",
       "                     LOCATION                                      BOUT  \\\n",
       "0  Inglewood, California, USA       Islam Makhachev  vs  Renato Moicano   \n",
       "1  Inglewood, California, USA  Merab Dvalishvili  vs  Umar Nurmagomedov   \n",
       "2  Inglewood, California, USA          Jiri Prochazka  vs  Jamahal Hill   \n",
       "3  Inglewood, California, USA       Jailton Almeida  vs  Serghei Spivac   \n",
       "4  Inglewood, California, USA      Kevin Holland  vs  Reinier de Ridder   \n",
       "\n",
       "           FIGHTER 1          FIGHTER 2             WINNER  \\\n",
       "0    Islam Makhachev     Renato Moicano    Islam Makhachev   \n",
       "1  Merab Dvalishvili  Umar Nurmagomedov  Merab Dvalishvili   \n",
       "2     Jiri Prochazka       Jamahal Hill     Jiri Prochazka   \n",
       "3    Jailton Almeida     Serghei Spivac    Jailton Almeida   \n",
       "4      Kevin Holland  Reinier de Ridder  Reinier de Ridder   \n",
       "\n",
       "                   WEIGHTCLASS                METHOD  ROUND  TIME  \\\n",
       "0   UFC Lightweight Title Bout            Submission      1  4:05   \n",
       "1  UFC Bantamweight Title Bout  Decision - Unanimous      5  5:00   \n",
       "2       Light Heavyweight Bout                KO/TKO      3  3:01   \n",
       "3             Heavyweight Bout                KO/TKO      1  4:53   \n",
       "4            Middleweight Bout            Submission      1  3:31   \n",
       "\n",
       "         TIME FORMAT       REFEREE  \\\n",
       "0  5 Rnd (5-5-5-5-5)     Herb Dean   \n",
       "1  5 Rnd (5-5-5-5-5)  Jason Herzog   \n",
       "2      3 Rnd (5-5-5)  Mike Beltran   \n",
       "3      3 Rnd (5-5-5)  Jason Herzog   \n",
       "4      3 Rnd (5-5-5)   Frank Trigg   \n",
       "\n",
       "                                             DETAILS  \\\n",
       "0                            D'Arce Choke On Ground    \n",
       "1  Chris Leben 47 - 48.Chris Crail 46 - 49.Mike B...   \n",
       "2                         Punches to Head On Ground    \n",
       "3                 Punches to Head From Back Control    \n",
       "4                                  Rear Naked Choke    \n",
       "\n",
       "                                                 URL  \n",
       "0  http://ufcstats.com/fight-details/daef1691c7d6...  \n",
       "1  http://ufcstats.com/fight-details/f39941b3743b...  \n",
       "2  http://ufcstats.com/fight-details/959fea398ffa...  \n",
       "3  http://ufcstats.com/fight-details/54d48b33e724...  \n",
       "4  http://ufcstats.com/fight-details/69d63c057aeb...  "
      ]
     },
     "execution_count": 37,
     "metadata": {},
     "output_type": "execute_result"
    }
   ],
   "source": [
    "clean_fight_results.head()"
   ]
  },
  {
   "cell_type": "code",
   "execution_count": 38,
   "id": "aeebe897-e5ba-4de7-91a8-49fd71e65d31",
   "metadata": {},
   "outputs": [
    {
     "data": {
      "text/html": [
       "<div>\n",
       "<style scoped>\n",
       "    .dataframe tbody tr th:only-of-type {\n",
       "        vertical-align: middle;\n",
       "    }\n",
       "\n",
       "    .dataframe tbody tr th {\n",
       "        vertical-align: top;\n",
       "    }\n",
       "\n",
       "    .dataframe thead th {\n",
       "        text-align: right;\n",
       "    }\n",
       "</style>\n",
       "<table border=\"1\" class=\"dataframe\">\n",
       "  <thead>\n",
       "    <tr style=\"text-align: right;\">\n",
       "      <th></th>\n",
       "      <th>Unnamed: 0</th>\n",
       "      <th>EVENT</th>\n",
       "      <th>DATE</th>\n",
       "      <th>LOCATION</th>\n",
       "      <th>BOUT</th>\n",
       "      <th>FIGHTER 1</th>\n",
       "      <th>FIGHTER 2</th>\n",
       "      <th>WINNER</th>\n",
       "      <th>WEIGHTCLASS</th>\n",
       "      <th>METHOD</th>\n",
       "      <th>ROUND</th>\n",
       "      <th>TIME</th>\n",
       "      <th>TIME FORMAT</th>\n",
       "      <th>REFEREE</th>\n",
       "      <th>DETAILS</th>\n",
       "      <th>URL</th>\n",
       "    </tr>\n",
       "  </thead>\n",
       "  <tbody>\n",
       "    <tr>\n",
       "      <th>0</th>\n",
       "      <td>0</td>\n",
       "      <td>UFC 311: Makhachev Vs. Moicano</td>\n",
       "      <td>January 18, 2025</td>\n",
       "      <td>Inglewood, California, USA</td>\n",
       "      <td>Islam Makhachev  vs  Renato Moicano</td>\n",
       "      <td>Islam Makhachev</td>\n",
       "      <td>Renato Moicano</td>\n",
       "      <td>Islam Makhachev</td>\n",
       "      <td>UFC Lightweight Title Bout</td>\n",
       "      <td>Submission</td>\n",
       "      <td>1</td>\n",
       "      <td>4:05</td>\n",
       "      <td>5 Rnd (5-5-5-5-5)</td>\n",
       "      <td>Herb Dean</td>\n",
       "      <td>D'Arce Choke On Ground</td>\n",
       "      <td>http://ufcstats.com/fight-details/daef1691c7d6...</td>\n",
       "    </tr>\n",
       "    <tr>\n",
       "      <th>1</th>\n",
       "      <td>1</td>\n",
       "      <td>UFC 311: Makhachev Vs. Moicano</td>\n",
       "      <td>January 18, 2025</td>\n",
       "      <td>Inglewood, California, USA</td>\n",
       "      <td>Merab Dvalishvili  vs  Umar Nurmagomedov</td>\n",
       "      <td>Merab Dvalishvili</td>\n",
       "      <td>Umar Nurmagomedov</td>\n",
       "      <td>Merab Dvalishvili</td>\n",
       "      <td>UFC Bantamweight Title Bout</td>\n",
       "      <td>Decision - Unanimous</td>\n",
       "      <td>5</td>\n",
       "      <td>5:00</td>\n",
       "      <td>5 Rnd (5-5-5-5-5)</td>\n",
       "      <td>Jason Herzog</td>\n",
       "      <td>Chris Leben 47 - 48.Chris Crail 46 - 49.Mike B...</td>\n",
       "      <td>http://ufcstats.com/fight-details/f39941b3743b...</td>\n",
       "    </tr>\n",
       "    <tr>\n",
       "      <th>2</th>\n",
       "      <td>2</td>\n",
       "      <td>UFC 311: Makhachev Vs. Moicano</td>\n",
       "      <td>January 18, 2025</td>\n",
       "      <td>Inglewood, California, USA</td>\n",
       "      <td>Jiri Prochazka  vs  Jamahal Hill</td>\n",
       "      <td>Jiri Prochazka</td>\n",
       "      <td>Jamahal Hill</td>\n",
       "      <td>Jiri Prochazka</td>\n",
       "      <td>Light Heavyweight Bout</td>\n",
       "      <td>KO/TKO</td>\n",
       "      <td>3</td>\n",
       "      <td>3:01</td>\n",
       "      <td>3 Rnd (5-5-5)</td>\n",
       "      <td>Mike Beltran</td>\n",
       "      <td>Punches to Head On Ground</td>\n",
       "      <td>http://ufcstats.com/fight-details/959fea398ffa...</td>\n",
       "    </tr>\n",
       "    <tr>\n",
       "      <th>3</th>\n",
       "      <td>3</td>\n",
       "      <td>UFC 311: Makhachev Vs. Moicano</td>\n",
       "      <td>January 18, 2025</td>\n",
       "      <td>Inglewood, California, USA</td>\n",
       "      <td>Jailton Almeida  vs  Serghei Spivac</td>\n",
       "      <td>Jailton Almeida</td>\n",
       "      <td>Serghei Spivac</td>\n",
       "      <td>Jailton Almeida</td>\n",
       "      <td>Heavyweight Bout</td>\n",
       "      <td>KO/TKO</td>\n",
       "      <td>1</td>\n",
       "      <td>4:53</td>\n",
       "      <td>3 Rnd (5-5-5)</td>\n",
       "      <td>Jason Herzog</td>\n",
       "      <td>Punches to Head From Back Control</td>\n",
       "      <td>http://ufcstats.com/fight-details/54d48b33e724...</td>\n",
       "    </tr>\n",
       "    <tr>\n",
       "      <th>4</th>\n",
       "      <td>4</td>\n",
       "      <td>UFC 311: Makhachev Vs. Moicano</td>\n",
       "      <td>January 18, 2025</td>\n",
       "      <td>Inglewood, California, USA</td>\n",
       "      <td>Kevin Holland  vs  Reinier de Ridder</td>\n",
       "      <td>Kevin Holland</td>\n",
       "      <td>Reinier de Ridder</td>\n",
       "      <td>Reinier de Ridder</td>\n",
       "      <td>Middleweight Bout</td>\n",
       "      <td>Submission</td>\n",
       "      <td>1</td>\n",
       "      <td>3:31</td>\n",
       "      <td>3 Rnd (5-5-5)</td>\n",
       "      <td>Frank Trigg</td>\n",
       "      <td>Rear Naked Choke</td>\n",
       "      <td>http://ufcstats.com/fight-details/69d63c057aeb...</td>\n",
       "    </tr>\n",
       "  </tbody>\n",
       "</table>\n",
       "</div>"
      ],
      "text/plain": [
       "   Unnamed: 0                           EVENT              DATE  \\\n",
       "0           0  UFC 311: Makhachev Vs. Moicano  January 18, 2025   \n",
       "1           1  UFC 311: Makhachev Vs. Moicano  January 18, 2025   \n",
       "2           2  UFC 311: Makhachev Vs. Moicano  January 18, 2025   \n",
       "3           3  UFC 311: Makhachev Vs. Moicano  January 18, 2025   \n",
       "4           4  UFC 311: Makhachev Vs. Moicano  January 18, 2025   \n",
       "\n",
       "                     LOCATION                                      BOUT  \\\n",
       "0  Inglewood, California, USA       Islam Makhachev  vs  Renato Moicano   \n",
       "1  Inglewood, California, USA  Merab Dvalishvili  vs  Umar Nurmagomedov   \n",
       "2  Inglewood, California, USA          Jiri Prochazka  vs  Jamahal Hill   \n",
       "3  Inglewood, California, USA       Jailton Almeida  vs  Serghei Spivac   \n",
       "4  Inglewood, California, USA      Kevin Holland  vs  Reinier de Ridder   \n",
       "\n",
       "           FIGHTER 1          FIGHTER 2             WINNER  \\\n",
       "0    Islam Makhachev     Renato Moicano    Islam Makhachev   \n",
       "1  Merab Dvalishvili  Umar Nurmagomedov  Merab Dvalishvili   \n",
       "2     Jiri Prochazka       Jamahal Hill     Jiri Prochazka   \n",
       "3    Jailton Almeida     Serghei Spivac    Jailton Almeida   \n",
       "4      Kevin Holland  Reinier de Ridder  Reinier de Ridder   \n",
       "\n",
       "                   WEIGHTCLASS                METHOD  ROUND  TIME  \\\n",
       "0   UFC Lightweight Title Bout            Submission      1  4:05   \n",
       "1  UFC Bantamweight Title Bout  Decision - Unanimous      5  5:00   \n",
       "2       Light Heavyweight Bout                KO/TKO      3  3:01   \n",
       "3             Heavyweight Bout                KO/TKO      1  4:53   \n",
       "4            Middleweight Bout            Submission      1  3:31   \n",
       "\n",
       "         TIME FORMAT       REFEREE  \\\n",
       "0  5 Rnd (5-5-5-5-5)     Herb Dean   \n",
       "1  5 Rnd (5-5-5-5-5)  Jason Herzog   \n",
       "2      3 Rnd (5-5-5)  Mike Beltran   \n",
       "3      3 Rnd (5-5-5)  Jason Herzog   \n",
       "4      3 Rnd (5-5-5)   Frank Trigg   \n",
       "\n",
       "                                             DETAILS  \\\n",
       "0                            D'Arce Choke On Ground    \n",
       "1  Chris Leben 47 - 48.Chris Crail 46 - 49.Mike B...   \n",
       "2                         Punches to Head On Ground    \n",
       "3                 Punches to Head From Back Control    \n",
       "4                                  Rear Naked Choke    \n",
       "\n",
       "                                                 URL  \n",
       "0  http://ufcstats.com/fight-details/daef1691c7d6...  \n",
       "1  http://ufcstats.com/fight-details/f39941b3743b...  \n",
       "2  http://ufcstats.com/fight-details/959fea398ffa...  \n",
       "3  http://ufcstats.com/fight-details/54d48b33e724...  \n",
       "4  http://ufcstats.com/fight-details/69d63c057aeb...  "
      ]
     },
     "execution_count": 38,
     "metadata": {},
     "output_type": "execute_result"
    }
   ],
   "source": [
    "# Split features (X) and target (y) again\n",
    "x = clean_fight_results.drop(\"WINNER\", axis=1)\n",
    "y = clean_fight_results[\"WINNER\"]\n",
    "clean_fight_results.head()"
   ]
  },
  {
   "cell_type": "code",
   "execution_count": 39,
   "id": "c5ff8d52-97d9-460a-8226-eac22010c570",
   "metadata": {},
   "outputs": [
    {
     "data": {
      "text/html": [
       "<div>\n",
       "<style scoped>\n",
       "    .dataframe tbody tr th:only-of-type {\n",
       "        vertical-align: middle;\n",
       "    }\n",
       "\n",
       "    .dataframe tbody tr th {\n",
       "        vertical-align: top;\n",
       "    }\n",
       "\n",
       "    .dataframe thead th {\n",
       "        text-align: right;\n",
       "    }\n",
       "</style>\n",
       "<table border=\"1\" class=\"dataframe\">\n",
       "  <thead>\n",
       "    <tr style=\"text-align: right;\">\n",
       "      <th></th>\n",
       "      <th>Unnamed: 0</th>\n",
       "      <th>EVENT</th>\n",
       "      <th>DATE</th>\n",
       "      <th>LOCATION</th>\n",
       "      <th>BOUT</th>\n",
       "      <th>FIGHTER 1</th>\n",
       "      <th>FIGHTER 2</th>\n",
       "      <th>WEIGHTCLASS</th>\n",
       "      <th>METHOD</th>\n",
       "      <th>ROUND</th>\n",
       "      <th>TIME</th>\n",
       "      <th>TIME FORMAT</th>\n",
       "      <th>REFEREE</th>\n",
       "      <th>DETAILS</th>\n",
       "      <th>URL</th>\n",
       "    </tr>\n",
       "  </thead>\n",
       "  <tbody>\n",
       "    <tr>\n",
       "      <th>0</th>\n",
       "      <td>0</td>\n",
       "      <td>UFC 311: Makhachev Vs. Moicano</td>\n",
       "      <td>January 18, 2025</td>\n",
       "      <td>Inglewood, California, USA</td>\n",
       "      <td>Islam Makhachev  vs  Renato Moicano</td>\n",
       "      <td>Islam Makhachev</td>\n",
       "      <td>Renato Moicano</td>\n",
       "      <td>UFC Lightweight Title Bout</td>\n",
       "      <td>Submission</td>\n",
       "      <td>1</td>\n",
       "      <td>4:05</td>\n",
       "      <td>5 Rnd (5-5-5-5-5)</td>\n",
       "      <td>Herb Dean</td>\n",
       "      <td>D'Arce Choke On Ground</td>\n",
       "      <td>http://ufcstats.com/fight-details/daef1691c7d6...</td>\n",
       "    </tr>\n",
       "    <tr>\n",
       "      <th>1</th>\n",
       "      <td>1</td>\n",
       "      <td>UFC 311: Makhachev Vs. Moicano</td>\n",
       "      <td>January 18, 2025</td>\n",
       "      <td>Inglewood, California, USA</td>\n",
       "      <td>Merab Dvalishvili  vs  Umar Nurmagomedov</td>\n",
       "      <td>Merab Dvalishvili</td>\n",
       "      <td>Umar Nurmagomedov</td>\n",
       "      <td>UFC Bantamweight Title Bout</td>\n",
       "      <td>Decision - Unanimous</td>\n",
       "      <td>5</td>\n",
       "      <td>5:00</td>\n",
       "      <td>5 Rnd (5-5-5-5-5)</td>\n",
       "      <td>Jason Herzog</td>\n",
       "      <td>Chris Leben 47 - 48.Chris Crail 46 - 49.Mike B...</td>\n",
       "      <td>http://ufcstats.com/fight-details/f39941b3743b...</td>\n",
       "    </tr>\n",
       "    <tr>\n",
       "      <th>2</th>\n",
       "      <td>2</td>\n",
       "      <td>UFC 311: Makhachev Vs. Moicano</td>\n",
       "      <td>January 18, 2025</td>\n",
       "      <td>Inglewood, California, USA</td>\n",
       "      <td>Jiri Prochazka  vs  Jamahal Hill</td>\n",
       "      <td>Jiri Prochazka</td>\n",
       "      <td>Jamahal Hill</td>\n",
       "      <td>Light Heavyweight Bout</td>\n",
       "      <td>KO/TKO</td>\n",
       "      <td>3</td>\n",
       "      <td>3:01</td>\n",
       "      <td>3 Rnd (5-5-5)</td>\n",
       "      <td>Mike Beltran</td>\n",
       "      <td>Punches to Head On Ground</td>\n",
       "      <td>http://ufcstats.com/fight-details/959fea398ffa...</td>\n",
       "    </tr>\n",
       "    <tr>\n",
       "      <th>3</th>\n",
       "      <td>3</td>\n",
       "      <td>UFC 311: Makhachev Vs. Moicano</td>\n",
       "      <td>January 18, 2025</td>\n",
       "      <td>Inglewood, California, USA</td>\n",
       "      <td>Jailton Almeida  vs  Serghei Spivac</td>\n",
       "      <td>Jailton Almeida</td>\n",
       "      <td>Serghei Spivac</td>\n",
       "      <td>Heavyweight Bout</td>\n",
       "      <td>KO/TKO</td>\n",
       "      <td>1</td>\n",
       "      <td>4:53</td>\n",
       "      <td>3 Rnd (5-5-5)</td>\n",
       "      <td>Jason Herzog</td>\n",
       "      <td>Punches to Head From Back Control</td>\n",
       "      <td>http://ufcstats.com/fight-details/54d48b33e724...</td>\n",
       "    </tr>\n",
       "    <tr>\n",
       "      <th>4</th>\n",
       "      <td>4</td>\n",
       "      <td>UFC 311: Makhachev Vs. Moicano</td>\n",
       "      <td>January 18, 2025</td>\n",
       "      <td>Inglewood, California, USA</td>\n",
       "      <td>Kevin Holland  vs  Reinier de Ridder</td>\n",
       "      <td>Kevin Holland</td>\n",
       "      <td>Reinier de Ridder</td>\n",
       "      <td>Middleweight Bout</td>\n",
       "      <td>Submission</td>\n",
       "      <td>1</td>\n",
       "      <td>3:31</td>\n",
       "      <td>3 Rnd (5-5-5)</td>\n",
       "      <td>Frank Trigg</td>\n",
       "      <td>Rear Naked Choke</td>\n",
       "      <td>http://ufcstats.com/fight-details/69d63c057aeb...</td>\n",
       "    </tr>\n",
       "  </tbody>\n",
       "</table>\n",
       "</div>"
      ],
      "text/plain": [
       "   Unnamed: 0                           EVENT              DATE  \\\n",
       "0           0  UFC 311: Makhachev Vs. Moicano  January 18, 2025   \n",
       "1           1  UFC 311: Makhachev Vs. Moicano  January 18, 2025   \n",
       "2           2  UFC 311: Makhachev Vs. Moicano  January 18, 2025   \n",
       "3           3  UFC 311: Makhachev Vs. Moicano  January 18, 2025   \n",
       "4           4  UFC 311: Makhachev Vs. Moicano  January 18, 2025   \n",
       "\n",
       "                     LOCATION                                      BOUT  \\\n",
       "0  Inglewood, California, USA       Islam Makhachev  vs  Renato Moicano   \n",
       "1  Inglewood, California, USA  Merab Dvalishvili  vs  Umar Nurmagomedov   \n",
       "2  Inglewood, California, USA          Jiri Prochazka  vs  Jamahal Hill   \n",
       "3  Inglewood, California, USA       Jailton Almeida  vs  Serghei Spivac   \n",
       "4  Inglewood, California, USA      Kevin Holland  vs  Reinier de Ridder   \n",
       "\n",
       "           FIGHTER 1          FIGHTER 2                  WEIGHTCLASS  \\\n",
       "0    Islam Makhachev     Renato Moicano   UFC Lightweight Title Bout   \n",
       "1  Merab Dvalishvili  Umar Nurmagomedov  UFC Bantamweight Title Bout   \n",
       "2     Jiri Prochazka       Jamahal Hill       Light Heavyweight Bout   \n",
       "3    Jailton Almeida     Serghei Spivac             Heavyweight Bout   \n",
       "4      Kevin Holland  Reinier de Ridder            Middleweight Bout   \n",
       "\n",
       "                 METHOD  ROUND  TIME        TIME FORMAT       REFEREE  \\\n",
       "0            Submission      1  4:05  5 Rnd (5-5-5-5-5)     Herb Dean   \n",
       "1  Decision - Unanimous      5  5:00  5 Rnd (5-5-5-5-5)  Jason Herzog   \n",
       "2                KO/TKO      3  3:01      3 Rnd (5-5-5)  Mike Beltran   \n",
       "3                KO/TKO      1  4:53      3 Rnd (5-5-5)  Jason Herzog   \n",
       "4            Submission      1  3:31      3 Rnd (5-5-5)   Frank Trigg   \n",
       "\n",
       "                                             DETAILS  \\\n",
       "0                            D'Arce Choke On Ground    \n",
       "1  Chris Leben 47 - 48.Chris Crail 46 - 49.Mike B...   \n",
       "2                         Punches to Head On Ground    \n",
       "3                 Punches to Head From Back Control    \n",
       "4                                  Rear Naked Choke    \n",
       "\n",
       "                                                 URL  \n",
       "0  http://ufcstats.com/fight-details/daef1691c7d6...  \n",
       "1  http://ufcstats.com/fight-details/f39941b3743b...  \n",
       "2  http://ufcstats.com/fight-details/959fea398ffa...  \n",
       "3  http://ufcstats.com/fight-details/54d48b33e724...  \n",
       "4  http://ufcstats.com/fight-details/69d63c057aeb...  "
      ]
     },
     "execution_count": 39,
     "metadata": {},
     "output_type": "execute_result"
    }
   ],
   "source": [
    "x.head()"
   ]
  },
  {
   "cell_type": "code",
   "execution_count": 40,
   "id": "bc682782-5cda-4ba9-8145-a622d9aa5c75",
   "metadata": {},
   "outputs": [
    {
     "data": {
      "text/plain": [
       "0      Islam Makhachev\n",
       "1    Merab Dvalishvili\n",
       "2       Jiri Prochazka\n",
       "3      Jailton Almeida\n",
       "4    Reinier de Ridder\n",
       "Name: WINNER, dtype: object"
      ]
     },
     "execution_count": 40,
     "metadata": {},
     "output_type": "execute_result"
    }
   ],
   "source": [
    "y.head()"
   ]
  },
  {
   "cell_type": "code",
   "execution_count": 41,
   "id": "b17e69be-2531-4756-b309-4810c7eb3cbb",
   "metadata": {},
   "outputs": [
    {
     "data": {
      "text/plain": [
       "Unnamed: 0      int64\n",
       "EVENT          object\n",
       "DATE           object\n",
       "LOCATION       object\n",
       "BOUT           object\n",
       "FIGHTER 1      object\n",
       "FIGHTER 2      object\n",
       "WINNER         object\n",
       "WEIGHTCLASS    object\n",
       "METHOD         object\n",
       "ROUND           int64\n",
       "TIME           object\n",
       "TIME FORMAT    object\n",
       "REFEREE        object\n",
       "DETAILS        object\n",
       "URL            object\n",
       "dtype: object"
      ]
     },
     "execution_count": 41,
     "metadata": {},
     "output_type": "execute_result"
    }
   ],
   "source": [
    "clean_fight_results.dtypes"
   ]
  },
  {
   "cell_type": "code",
   "execution_count": 47,
   "id": "779e21e2-d886-4411-b2e7-c3430babd341",
   "metadata": {},
   "outputs": [
    {
     "data": {
      "text/plain": [
       "<8000x28088 sparse matrix of type '<class 'numpy.float64'>'\n",
       "\twith 127999 stored elements in Compressed Sparse Row format>"
      ]
     },
     "execution_count": 47,
     "metadata": {},
     "output_type": "execute_result"
    }
   ],
   "source": [
    "from sklearn.preprocessing import OneHotEncoder\n",
    "from sklearn.compose import ColumnTransformer\n",
    "\n",
    "# Define categorical and numerical columns\n",
    "categorical_features = [\"EVENT\", \"DATE\", \"LOCATION\", \"BOUT\", \"FIGHTER 1\",\"FIGHTER 2\", \"WINNER\", \"WEIGHTCLASS\", \"METHOD\", \"TIME\", \"TIME FORMAT\", \"REFEREE\", \"DETAILS\", \"URL\"]\n",
    "one_hot = OneHotEncoder()\n",
    "transformer = ColumnTransformer([(\"one_hot\",\n",
    "                                  one_hot,\n",
    "                                  categorical_features)],\n",
    "                                  remainder= \"passthrough\")\n",
    "\n",
    "transformed_x = transformer.fit_transform(clean_fight_results)\n",
    "transformed_x"
   ]
  },
  {
   "cell_type": "code",
   "execution_count": 60,
   "id": "65d39d55-d273-4f37-bad5-f111462f73c8",
   "metadata": {},
   "outputs": [
    {
     "name": "stderr",
     "output_type": "stream",
     "text": [
      "C:\\Users\\cadeb\\anaconda3\\Lib\\site-packages\\sklearn\\model_selection\\_split.py:776: UserWarning: The least populated class in y has only 1 members, which is less than n_splits=5.\n",
      "  warnings.warn(\n"
     ]
    },
    {
     "data": {
      "text/plain": [
       "(1.0, 0.86125, 0.8925000000000001)"
      ]
     },
     "execution_count": 60,
     "metadata": {},
     "output_type": "execute_result"
    }
   ],
   "source": [
    "# Import the RandomForestClassifier estimator class\n",
    "from sklearn.ensemble import RandomForestClassifier\n",
    "from sklearn.model_selection import train_test_split\n",
    "from sklearn.model_selection import cross_val_score\n",
    "\n",
    "# Setup random seed\n",
    "np.random.seed(42)\n",
    "\n",
    "# Make the data\n",
    "x = clean_fight_results.drop(\"WINNER\", axis=1)\n",
    "y = clean_fight_results[\"WINNER\"]\n",
    "\n",
    "# Split the data \n",
    "x_train, x_test, y_train, y_test =train_test_split(transformed_x, y, test_size=0.2)\n",
    "\n",
    "# Instantiate Random Forest Classifier\n",
    "clf = RandomForestClassifier()\n",
    "\n",
    "# Fit the model to the data (training the machine learning model)\n",
    "clf.fit(x_train, y_train)\n",
    "\n",
    "# Evaluate the Randfom Forest Classifier (use the patterns the model has learned)\n",
    "clf_cross_val_score = np.mean(cross_val_score(clf, transformed_x, y))\n",
    "clf.score(x_train, y_train),clf.score(x_test, y_test), clf_cross_val_score"
   ]
  },
  {
   "cell_type": "code",
   "execution_count": null,
   "id": "940a068a-83ef-4ec1-93d7-df239ca515e4",
   "metadata": {},
   "outputs": [],
   "source": []
  }
 ],
 "metadata": {
  "kernelspec": {
   "display_name": "Python 3 (ipykernel)",
   "language": "python",
   "name": "python3"
  },
  "language_info": {
   "codemirror_mode": {
    "name": "ipython",
    "version": 3
   },
   "file_extension": ".py",
   "mimetype": "text/x-python",
   "name": "python",
   "nbconvert_exporter": "python",
   "pygments_lexer": "ipython3",
   "version": "3.12.7"
  }
 },
 "nbformat": 4,
 "nbformat_minor": 5
}
