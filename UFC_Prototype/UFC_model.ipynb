{
 "cells": [
  {
   "cell_type": "code",
   "execution_count": 1,
   "id": "4a72bd44-869f-44b5-9e0f-c10e12c88e92",
   "metadata": {},
   "outputs": [
    {
     "name": "stdout",
     "output_type": "stream",
     "text": [
      "Last updated: 2025-01-23 08:58:19.776377\n"
     ]
    }
   ],
   "source": [
    "import datetime\n",
    "print(f\"Last updated: {datetime.datetime.now()}\")"
   ]
  },
  {
   "cell_type": "code",
   "execution_count": 2,
   "id": "7bebea21-e98f-4014-ba43-27268165839b",
   "metadata": {},
   "outputs": [],
   "source": [
    "# Standard imports\n",
    "import numpy as np\n",
    "import pandas as pd\n",
    "import matplotlib.pyplot as plt\n",
    "%matplotlib inline"
   ]
  },
  {
   "cell_type": "code",
   "execution_count": 3,
   "id": "d723c2b9-76fd-4858-b8d9-759362f459c9",
   "metadata": {},
   "outputs": [
    {
     "data": {
      "text/html": [
       "<div>\n",
       "<style scoped>\n",
       "    .dataframe tbody tr th:only-of-type {\n",
       "        vertical-align: middle;\n",
       "    }\n",
       "\n",
       "    .dataframe tbody tr th {\n",
       "        vertical-align: top;\n",
       "    }\n",
       "\n",
       "    .dataframe thead th {\n",
       "        text-align: right;\n",
       "    }\n",
       "</style>\n",
       "<table border=\"1\" class=\"dataframe\">\n",
       "  <thead>\n",
       "    <tr style=\"text-align: right;\">\n",
       "      <th></th>\n",
       "      <th>FightId</th>\n",
       "      <th>Date</th>\n",
       "      <th>Location</th>\n",
       "      <th>Fighter 0</th>\n",
       "      <th>Fighter 1</th>\n",
       "      <th>Winner</th>\n",
       "      <th>Outcome</th>\n",
       "      <th>Fighter 0 Kd</th>\n",
       "      <th>Fighter 0 Str</th>\n",
       "      <th>Fighter 0 Td</th>\n",
       "      <th>...</th>\n",
       "      <th>Move</th>\n",
       "      <th>Weight class</th>\n",
       "      <th>Time</th>\n",
       "      <th>Url</th>\n",
       "      <th>Title</th>\n",
       "      <th>Fighter 0 Id</th>\n",
       "      <th>Fighter 1 Id</th>\n",
       "      <th>Fighter 0 Url</th>\n",
       "      <th>Fighter 1 Url</th>\n",
       "      <th>Max Round</th>\n",
       "    </tr>\n",
       "  </thead>\n",
       "  <tbody>\n",
       "    <tr>\n",
       "      <th>0</th>\n",
       "      <td>0292b9c31c0089ac</td>\n",
       "      <td>2024-12-07</td>\n",
       "      <td>Las Vegas, Nevada, USA</td>\n",
       "      <td>Alexandre Pantoja</td>\n",
       "      <td>Kai Asakura</td>\n",
       "      <td>Alexandre Pantoja</td>\n",
       "      <td>WON</td>\n",
       "      <td>0</td>\n",
       "      <td>32</td>\n",
       "      <td>3</td>\n",
       "      <td>...</td>\n",
       "      <td>Rear Naked Choke</td>\n",
       "      <td>Flyweight</td>\n",
       "      <td>2:05</td>\n",
       "      <td>http://www.ufcstats.com/fight-details/0292b9c3...</td>\n",
       "      <td>UFC 310: Pantoja vs. Asakura</td>\n",
       "      <td>a0f0004aadf10b71</td>\n",
       "      <td>d33da8a3d82bdb62</td>\n",
       "      <td>http://www.ufcstats.com/fighter-details/a0f000...</td>\n",
       "      <td>http://www.ufcstats.com/fighter-details/d33da8...</td>\n",
       "      <td>3.0</td>\n",
       "    </tr>\n",
       "    <tr>\n",
       "      <th>1</th>\n",
       "      <td>e761c5009c09b295</td>\n",
       "      <td>2024-12-07</td>\n",
       "      <td>Las Vegas, Nevada, USA</td>\n",
       "      <td>Shavkat Rakhmonov</td>\n",
       "      <td>Ian Machado Garry</td>\n",
       "      <td>Shavkat Rakhmonov</td>\n",
       "      <td>WON</td>\n",
       "      <td>0</td>\n",
       "      <td>37</td>\n",
       "      <td>2</td>\n",
       "      <td>...</td>\n",
       "      <td>None</td>\n",
       "      <td>Welterweight</td>\n",
       "      <td>5:00</td>\n",
       "      <td>http://www.ufcstats.com/fight-details/e761c500...</td>\n",
       "      <td>UFC 310: Pantoja vs. Asakura</td>\n",
       "      <td>01afe0916a40c7c5</td>\n",
       "      <td>442c9011034ae1fd</td>\n",
       "      <td>http://www.ufcstats.com/fighter-details/01afe0...</td>\n",
       "      <td>http://www.ufcstats.com/fighter-details/442c90...</td>\n",
       "      <td>5.0</td>\n",
       "    </tr>\n",
       "    <tr>\n",
       "      <th>2</th>\n",
       "      <td>1569186ee820ea87</td>\n",
       "      <td>2024-12-07</td>\n",
       "      <td>Las Vegas, Nevada, USA</td>\n",
       "      <td>Ciryl Gane</td>\n",
       "      <td>Alexander Volkov</td>\n",
       "      <td>Ciryl Gane</td>\n",
       "      <td>WON</td>\n",
       "      <td>0</td>\n",
       "      <td>43</td>\n",
       "      <td>2</td>\n",
       "      <td>...</td>\n",
       "      <td>None</td>\n",
       "      <td>Heavyweight</td>\n",
       "      <td>5:00</td>\n",
       "      <td>http://www.ufcstats.com/fight-details/1569186e...</td>\n",
       "      <td>UFC 310: Pantoja vs. Asakura</td>\n",
       "      <td>787bb1f087ccff8a</td>\n",
       "      <td>279566840aa55bf2</td>\n",
       "      <td>http://www.ufcstats.com/fighter-details/787bb1...</td>\n",
       "      <td>http://www.ufcstats.com/fighter-details/279566...</td>\n",
       "      <td>5.0</td>\n",
       "    </tr>\n",
       "    <tr>\n",
       "      <th>3</th>\n",
       "      <td>eb94412f15c62650</td>\n",
       "      <td>2024-12-07</td>\n",
       "      <td>Las Vegas, Nevada, USA</td>\n",
       "      <td>Bryce Mitchell</td>\n",
       "      <td>Kron Gracie</td>\n",
       "      <td>Bryce Mitchell</td>\n",
       "      <td>WON</td>\n",
       "      <td>0</td>\n",
       "      <td>26</td>\n",
       "      <td>2</td>\n",
       "      <td>...</td>\n",
       "      <td>Elbows</td>\n",
       "      <td>Featherweight</td>\n",
       "      <td>0:39</td>\n",
       "      <td>http://www.ufcstats.com/fight-details/eb94412f...</td>\n",
       "      <td>UFC 310: Pantoja vs. Asakura</td>\n",
       "      <td>d9c6f19f958643e9</td>\n",
       "      <td>242d36d241b43c12</td>\n",
       "      <td>http://www.ufcstats.com/fighter-details/d9c6f1...</td>\n",
       "      <td>http://www.ufcstats.com/fighter-details/242d36...</td>\n",
       "      <td>3.0</td>\n",
       "    </tr>\n",
       "    <tr>\n",
       "      <th>4</th>\n",
       "      <td>df30514e0674d598</td>\n",
       "      <td>2024-12-07</td>\n",
       "      <td>Las Vegas, Nevada, USA</td>\n",
       "      <td>Dooho Choi</td>\n",
       "      <td>Nate Landwehr</td>\n",
       "      <td>Dooho Choi</td>\n",
       "      <td>WON</td>\n",
       "      <td>0</td>\n",
       "      <td>78</td>\n",
       "      <td>4</td>\n",
       "      <td>...</td>\n",
       "      <td>Elbows</td>\n",
       "      <td>Featherweight</td>\n",
       "      <td>3:21</td>\n",
       "      <td>http://www.ufcstats.com/fight-details/df30514e...</td>\n",
       "      <td>UFC 310: Pantoja vs. Asakura</td>\n",
       "      <td>e93b04e308913c2e</td>\n",
       "      <td>583ee11abddfc581</td>\n",
       "      <td>http://www.ufcstats.com/fighter-details/e93b04...</td>\n",
       "      <td>http://www.ufcstats.com/fighter-details/583ee1...</td>\n",
       "      <td>3.0</td>\n",
       "    </tr>\n",
       "  </tbody>\n",
       "</table>\n",
       "<p>5 rows × 27 columns</p>\n",
       "</div>"
      ],
      "text/plain": [
       "            FightId       Date                Location          Fighter 0  \\\n",
       "0  0292b9c31c0089ac 2024-12-07  Las Vegas, Nevada, USA  Alexandre Pantoja   \n",
       "1  e761c5009c09b295 2024-12-07  Las Vegas, Nevada, USA  Shavkat Rakhmonov   \n",
       "2  1569186ee820ea87 2024-12-07  Las Vegas, Nevada, USA         Ciryl Gane   \n",
       "3  eb94412f15c62650 2024-12-07  Las Vegas, Nevada, USA     Bryce Mitchell   \n",
       "4  df30514e0674d598 2024-12-07  Las Vegas, Nevada, USA         Dooho Choi   \n",
       "\n",
       "           Fighter 1             Winner Outcome  Fighter 0 Kd  Fighter 0 Str  \\\n",
       "0        Kai Asakura  Alexandre Pantoja     WON             0             32   \n",
       "1  Ian Machado Garry  Shavkat Rakhmonov     WON             0             37   \n",
       "2   Alexander Volkov         Ciryl Gane     WON             0             43   \n",
       "3        Kron Gracie     Bryce Mitchell     WON             0             26   \n",
       "4      Nate Landwehr         Dooho Choi     WON             0             78   \n",
       "\n",
       "   Fighter 0 Td  ...              Move   Weight class  Time  \\\n",
       "0             3  ...  Rear Naked Choke      Flyweight  2:05   \n",
       "1             2  ...              None   Welterweight  5:00   \n",
       "2             2  ...              None    Heavyweight  5:00   \n",
       "3             2  ...            Elbows  Featherweight  0:39   \n",
       "4             4  ...            Elbows  Featherweight  3:21   \n",
       "\n",
       "                                                 Url  \\\n",
       "0  http://www.ufcstats.com/fight-details/0292b9c3...   \n",
       "1  http://www.ufcstats.com/fight-details/e761c500...   \n",
       "2  http://www.ufcstats.com/fight-details/1569186e...   \n",
       "3  http://www.ufcstats.com/fight-details/eb94412f...   \n",
       "4  http://www.ufcstats.com/fight-details/df30514e...   \n",
       "\n",
       "                          Title      Fighter 0 Id      Fighter 1 Id  \\\n",
       "0  UFC 310: Pantoja vs. Asakura  a0f0004aadf10b71  d33da8a3d82bdb62   \n",
       "1  UFC 310: Pantoja vs. Asakura  01afe0916a40c7c5  442c9011034ae1fd   \n",
       "2  UFC 310: Pantoja vs. Asakura  787bb1f087ccff8a  279566840aa55bf2   \n",
       "3  UFC 310: Pantoja vs. Asakura  d9c6f19f958643e9  242d36d241b43c12   \n",
       "4  UFC 310: Pantoja vs. Asakura  e93b04e308913c2e  583ee11abddfc581   \n",
       "\n",
       "                                       Fighter 0 Url  \\\n",
       "0  http://www.ufcstats.com/fighter-details/a0f000...   \n",
       "1  http://www.ufcstats.com/fighter-details/01afe0...   \n",
       "2  http://www.ufcstats.com/fighter-details/787bb1...   \n",
       "3  http://www.ufcstats.com/fighter-details/d9c6f1...   \n",
       "4  http://www.ufcstats.com/fighter-details/e93b04...   \n",
       "\n",
       "                                       Fighter 1 Url Max Round  \n",
       "0  http://www.ufcstats.com/fighter-details/d33da8...       3.0  \n",
       "1  http://www.ufcstats.com/fighter-details/442c90...       5.0  \n",
       "2  http://www.ufcstats.com/fighter-details/279566...       5.0  \n",
       "3  http://www.ufcstats.com/fighter-details/242d36...       3.0  \n",
       "4  http://www.ufcstats.com/fighter-details/583ee1...       3.0  \n",
       "\n",
       "[5 rows x 27 columns]"
      ]
     },
     "execution_count": 3,
     "metadata": {},
     "output_type": "execute_result"
    }
   ],
   "source": [
    "# 1. Get the data ready\n",
    "#import pandas as pd\n",
    "import numpy as np\n",
    "import pandas as pd\n",
    "fights = pd.read_parquet(\"hf://datasets/JesterLabs/UFC_FIGHT_DATA/data/train-00000-of-00001.parquet\")\n",
    "fights.head()"
   ]
  },
  {
   "cell_type": "code",
   "execution_count": 4,
   "id": "072eff62-6407-41e5-99b3-0174bd3ea9eb",
   "metadata": {},
   "outputs": [
    {
     "data": {
      "text/plain": [
       "FightId             0\n",
       "Date                0\n",
       "Location            0\n",
       "Fighter 0           0\n",
       "Fighter 1           0\n",
       "Winner            144\n",
       "Outcome             0\n",
       "Fighter 0 Kd        0\n",
       "Fighter 0 Str       0\n",
       "Fighter 0 Td        0\n",
       "Fighter 0 Sub       0\n",
       "Fighter 1 Kd        0\n",
       "Fighter 1 Str       0\n",
       "Fighter 1 Td        0\n",
       "Fighter 1 Sub       0\n",
       "Round               0\n",
       "Method              0\n",
       "Move             3950\n",
       "Weight class        0\n",
       "Time                0\n",
       "Url                 0\n",
       "Title               0\n",
       "Fighter 0 Id        0\n",
       "Fighter 1 Id        0\n",
       "Fighter 0 Url       0\n",
       "Fighter 1 Url       0\n",
       "Max Round          31\n",
       "dtype: int64"
      ]
     },
     "execution_count": 4,
     "metadata": {},
     "output_type": "execute_result"
    }
   ],
   "source": [
    "fights.isna().sum()"
   ]
  },
  {
   "cell_type": "code",
   "execution_count": 7,
   "id": "63589917-1595-426a-bdf0-1ac6d5379abe",
   "metadata": {},
   "outputs": [
    {
     "data": {
      "text/plain": [
       "FightId          0\n",
       "Date             0\n",
       "Location         0\n",
       "Fighter 0        0\n",
       "Fighter 1        0\n",
       "Winner           0\n",
       "Outcome          0\n",
       "Fighter 0 Kd     0\n",
       "Fighter 0 Str    0\n",
       "Fighter 0 Td     0\n",
       "Fighter 0 Sub    0\n",
       "Fighter 1 Kd     0\n",
       "Fighter 1 Str    0\n",
       "Fighter 1 Td     0\n",
       "Fighter 1 Sub    0\n",
       "Round            0\n",
       "Method           0\n",
       "Move             0\n",
       "Weight class     0\n",
       "Time             0\n",
       "Url              0\n",
       "Title            0\n",
       "Fighter 0 Id     0\n",
       "Fighter 1 Id     0\n",
       "Fighter 0 Url    0\n",
       "Fighter 1 Url    0\n",
       "Max Round        0\n",
       "dtype: int64"
      ]
     },
     "execution_count": 7,
     "metadata": {},
     "output_type": "execute_result"
    }
   ],
   "source": [
    "fights[\"Move\"] = fights[\"Move\"].fillna(\"Decision\")\n",
    "fights.dropna(subset=[\"Winner\", \"Max Round\"], inplace=True)\n",
    "fights.isna().sum()"
   ]
  },
  {
   "cell_type": "code",
   "execution_count": 8,
   "id": "23e95f05-92f1-485e-b1d1-8f5833811c42",
   "metadata": {},
   "outputs": [
    {
     "data": {
      "text/html": [
       "<div>\n",
       "<style scoped>\n",
       "    .dataframe tbody tr th:only-of-type {\n",
       "        vertical-align: middle;\n",
       "    }\n",
       "\n",
       "    .dataframe tbody tr th {\n",
       "        vertical-align: top;\n",
       "    }\n",
       "\n",
       "    .dataframe thead th {\n",
       "        text-align: right;\n",
       "    }\n",
       "</style>\n",
       "<table border=\"1\" class=\"dataframe\">\n",
       "  <thead>\n",
       "    <tr style=\"text-align: right;\">\n",
       "      <th></th>\n",
       "      <th>Fighter 0</th>\n",
       "      <th>Fighter 1</th>\n",
       "      <th>Winner</th>\n",
       "      <th>Outcome</th>\n",
       "      <th>Fighter 0 Kd</th>\n",
       "      <th>Fighter 0 Str</th>\n",
       "      <th>Fighter 0 Td</th>\n",
       "      <th>Fighter 0 Sub</th>\n",
       "      <th>Fighter 1 Kd</th>\n",
       "      <th>Fighter 1 Str</th>\n",
       "      <th>Fighter 1 Td</th>\n",
       "      <th>Fighter 1 Sub</th>\n",
       "      <th>Round</th>\n",
       "      <th>Method</th>\n",
       "      <th>Move</th>\n",
       "      <th>Weight class</th>\n",
       "      <th>Time</th>\n",
       "      <th>Title</th>\n",
       "      <th>Max Round</th>\n",
       "    </tr>\n",
       "  </thead>\n",
       "  <tbody>\n",
       "    <tr>\n",
       "      <th>0</th>\n",
       "      <td>Alexandre Pantoja</td>\n",
       "      <td>Kai Asakura</td>\n",
       "      <td>Alexandre Pantoja</td>\n",
       "      <td>WON</td>\n",
       "      <td>0</td>\n",
       "      <td>32</td>\n",
       "      <td>3</td>\n",
       "      <td>1</td>\n",
       "      <td>0</td>\n",
       "      <td>17</td>\n",
       "      <td>0</td>\n",
       "      <td>0</td>\n",
       "      <td>2</td>\n",
       "      <td>SUB</td>\n",
       "      <td>Rear Naked Choke</td>\n",
       "      <td>Flyweight</td>\n",
       "      <td>2:05</td>\n",
       "      <td>UFC 310: Pantoja vs. Asakura</td>\n",
       "      <td>3.0</td>\n",
       "    </tr>\n",
       "    <tr>\n",
       "      <th>1</th>\n",
       "      <td>Shavkat Rakhmonov</td>\n",
       "      <td>Ian Machado Garry</td>\n",
       "      <td>Shavkat Rakhmonov</td>\n",
       "      <td>WON</td>\n",
       "      <td>0</td>\n",
       "      <td>37</td>\n",
       "      <td>2</td>\n",
       "      <td>0</td>\n",
       "      <td>0</td>\n",
       "      <td>42</td>\n",
       "      <td>1</td>\n",
       "      <td>2</td>\n",
       "      <td>5</td>\n",
       "      <td>U-DEC</td>\n",
       "      <td>Decision</td>\n",
       "      <td>Welterweight</td>\n",
       "      <td>5:00</td>\n",
       "      <td>UFC 310: Pantoja vs. Asakura</td>\n",
       "      <td>5.0</td>\n",
       "    </tr>\n",
       "    <tr>\n",
       "      <th>2</th>\n",
       "      <td>Ciryl Gane</td>\n",
       "      <td>Alexander Volkov</td>\n",
       "      <td>Ciryl Gane</td>\n",
       "      <td>WON</td>\n",
       "      <td>0</td>\n",
       "      <td>43</td>\n",
       "      <td>2</td>\n",
       "      <td>2</td>\n",
       "      <td>0</td>\n",
       "      <td>39</td>\n",
       "      <td>3</td>\n",
       "      <td>1</td>\n",
       "      <td>3</td>\n",
       "      <td>S-DEC</td>\n",
       "      <td>Decision</td>\n",
       "      <td>Heavyweight</td>\n",
       "      <td>5:00</td>\n",
       "      <td>UFC 310: Pantoja vs. Asakura</td>\n",
       "      <td>5.0</td>\n",
       "    </tr>\n",
       "    <tr>\n",
       "      <th>3</th>\n",
       "      <td>Bryce Mitchell</td>\n",
       "      <td>Kron Gracie</td>\n",
       "      <td>Bryce Mitchell</td>\n",
       "      <td>WON</td>\n",
       "      <td>0</td>\n",
       "      <td>26</td>\n",
       "      <td>2</td>\n",
       "      <td>0</td>\n",
       "      <td>0</td>\n",
       "      <td>6</td>\n",
       "      <td>0</td>\n",
       "      <td>1</td>\n",
       "      <td>3</td>\n",
       "      <td>KO/TKO</td>\n",
       "      <td>Elbows</td>\n",
       "      <td>Featherweight</td>\n",
       "      <td>0:39</td>\n",
       "      <td>UFC 310: Pantoja vs. Asakura</td>\n",
       "      <td>3.0</td>\n",
       "    </tr>\n",
       "    <tr>\n",
       "      <th>4</th>\n",
       "      <td>Dooho Choi</td>\n",
       "      <td>Nate Landwehr</td>\n",
       "      <td>Dooho Choi</td>\n",
       "      <td>WON</td>\n",
       "      <td>0</td>\n",
       "      <td>78</td>\n",
       "      <td>4</td>\n",
       "      <td>0</td>\n",
       "      <td>0</td>\n",
       "      <td>25</td>\n",
       "      <td>0</td>\n",
       "      <td>0</td>\n",
       "      <td>3</td>\n",
       "      <td>KO/TKO</td>\n",
       "      <td>Elbows</td>\n",
       "      <td>Featherweight</td>\n",
       "      <td>3:21</td>\n",
       "      <td>UFC 310: Pantoja vs. Asakura</td>\n",
       "      <td>3.0</td>\n",
       "    </tr>\n",
       "  </tbody>\n",
       "</table>\n",
       "</div>"
      ],
      "text/plain": [
       "           Fighter 0          Fighter 1             Winner Outcome  \\\n",
       "0  Alexandre Pantoja        Kai Asakura  Alexandre Pantoja     WON   \n",
       "1  Shavkat Rakhmonov  Ian Machado Garry  Shavkat Rakhmonov     WON   \n",
       "2         Ciryl Gane   Alexander Volkov         Ciryl Gane     WON   \n",
       "3     Bryce Mitchell        Kron Gracie     Bryce Mitchell     WON   \n",
       "4         Dooho Choi      Nate Landwehr         Dooho Choi     WON   \n",
       "\n",
       "   Fighter 0 Kd  Fighter 0 Str  Fighter 0 Td  Fighter 0 Sub  Fighter 1 Kd  \\\n",
       "0             0             32             3              1             0   \n",
       "1             0             37             2              0             0   \n",
       "2             0             43             2              2             0   \n",
       "3             0             26             2              0             0   \n",
       "4             0             78             4              0             0   \n",
       "\n",
       "   Fighter 1 Str  Fighter 1 Td  Fighter 1 Sub  Round  Method  \\\n",
       "0             17             0              0      2     SUB   \n",
       "1             42             1              2      5   U-DEC   \n",
       "2             39             3              1      3   S-DEC   \n",
       "3              6             0              1      3  KO/TKO   \n",
       "4             25             0              0      3  KO/TKO   \n",
       "\n",
       "               Move   Weight class  Time                         Title  \\\n",
       "0  Rear Naked Choke      Flyweight  2:05  UFC 310: Pantoja vs. Asakura   \n",
       "1          Decision   Welterweight  5:00  UFC 310: Pantoja vs. Asakura   \n",
       "2          Decision    Heavyweight  5:00  UFC 310: Pantoja vs. Asakura   \n",
       "3            Elbows  Featherweight  0:39  UFC 310: Pantoja vs. Asakura   \n",
       "4            Elbows  Featherweight  3:21  UFC 310: Pantoja vs. Asakura   \n",
       "\n",
       "   Max Round  \n",
       "0        3.0  \n",
       "1        5.0  \n",
       "2        5.0  \n",
       "3        3.0  \n",
       "4        3.0  "
      ]
     },
     "execution_count": 8,
     "metadata": {},
     "output_type": "execute_result"
    }
   ],
   "source": [
    "cleaned_fights = fights.drop(\n",
    "    [\"FightId\", \"Date\", \"Location\", \"Url\", \"Fighter 0 Id\", \"Fighter 1 Id\", \"Fighter 0 Url\", \"Fighter 1 Url\"],\n",
    "    axis=1\n",
    ")\n",
    "#cleaned_fights\n",
    "# Remove rows with NaN values in \"Winner\" and \"Max Round\"\n",
    "cleaned_fights.dropna(subset=[\"Winner\", \"Max Round\"], inplace=True)\n",
    "\n",
    "# Split features (X) and target (y) again\n",
    "x = cleaned_fights.drop(\"Winner\", axis=1)\n",
    "y = cleaned_fights[\"Winner\"]\n",
    "cleaned_fights.head()"
   ]
  },
  {
   "cell_type": "code",
   "execution_count": 9,
   "id": "abd347ac-3408-4c01-8d5b-7e021f90808a",
   "metadata": {},
   "outputs": [
    {
     "data": {
      "text/plain": [
       "Fighter 0         object\n",
       "Fighter 1         object\n",
       "Winner            object\n",
       "Outcome           object\n",
       "Fighter 0 Kd       int64\n",
       "Fighter 0 Str      int64\n",
       "Fighter 0 Td       int64\n",
       "Fighter 0 Sub      int64\n",
       "Fighter 1 Kd       int64\n",
       "Fighter 1 Str      int64\n",
       "Fighter 1 Td       int64\n",
       "Fighter 1 Sub      int64\n",
       "Round              int64\n",
       "Method            object\n",
       "Move              object\n",
       "Weight class      object\n",
       "Time              object\n",
       "Title             object\n",
       "Max Round        float64\n",
       "dtype: object"
      ]
     },
     "execution_count": 9,
     "metadata": {},
     "output_type": "execute_result"
    }
   ],
   "source": [
    "cleaned_fights.dtypes"
   ]
  },
  {
   "cell_type": "code",
   "execution_count": 10,
   "id": "26a46e54-e385-4c94-b70e-4261cccce695",
   "metadata": {},
   "outputs": [
    {
     "data": {
      "text/plain": [
       "<7786x7043 sparse matrix of type '<class 'numpy.float64'>'\n",
       "\twith 114614 stored elements in Compressed Sparse Row format>"
      ]
     },
     "execution_count": 10,
     "metadata": {},
     "output_type": "execute_result"
    }
   ],
   "source": [
    "from sklearn.preprocessing import OneHotEncoder\n",
    "from sklearn.compose import ColumnTransformer\n",
    "\n",
    "# Define categorical and numerical columns\n",
    "categorical_features = [\"Fighter 0\", \"Fighter 1\", \"Winner\", \"Outcome\", \"Method\", \"Move\", \"Weight class\", \"Time\", \"Title\"]\n",
    "one_hot = OneHotEncoder()\n",
    "transformer = ColumnTransformer([(\"one_hot\",\n",
    "                                  one_hot,\n",
    "                                  categorical_features)],\n",
    "                                  remainder= \"passthrough\")\n",
    "\n",
    "transformed_x = transformer.fit_transform(cleaned_fights)\n",
    "transformed_x"
   ]
  },
  {
   "cell_type": "code",
   "execution_count": 11,
   "id": "d78aa04d-f0cd-4cf6-b5ef-cfc8749f8b5a",
   "metadata": {},
   "outputs": [],
   "source": [
    "x = cleaned_fights.drop(\"Winner\", axis=1)\n",
    "y = cleaned_fights[\"Winner\"]"
   ]
  },
  {
   "cell_type": "code",
   "execution_count": 12,
   "id": "b3e57ee5-d704-441e-9626-48c43e888b68",
   "metadata": {},
   "outputs": [
    {
     "data": {
      "text/plain": [
       "dtype('float64')"
      ]
     },
     "execution_count": 12,
     "metadata": {},
     "output_type": "execute_result"
    }
   ],
   "source": [
    "transformed_x.dtype"
   ]
  },
  {
   "cell_type": "code",
   "execution_count": 13,
   "id": "a94495dc-adf8-467c-8640-6b5a3eb26b46",
   "metadata": {},
   "outputs": [
    {
     "data": {
      "text/plain": [
       "Fighter 0         object\n",
       "Fighter 1         object\n",
       "Outcome           object\n",
       "Fighter 0 Kd       int64\n",
       "Fighter 0 Str      int64\n",
       "Fighter 0 Td       int64\n",
       "Fighter 0 Sub      int64\n",
       "Fighter 1 Kd       int64\n",
       "Fighter 1 Str      int64\n",
       "Fighter 1 Td       int64\n",
       "Fighter 1 Sub      int64\n",
       "Round              int64\n",
       "Method            object\n",
       "Move              object\n",
       "Weight class      object\n",
       "Time              object\n",
       "Title             object\n",
       "Max Round        float64\n",
       "dtype: object"
      ]
     },
     "execution_count": 13,
     "metadata": {},
     "output_type": "execute_result"
    }
   ],
   "source": [
    "x.dtypes"
   ]
  },
  {
   "cell_type": "code",
   "execution_count": 14,
   "id": "474ede58-2119-4ca0-a130-85aa185f57e2",
   "metadata": {},
   "outputs": [
    {
     "data": {
      "text/plain": [
       "(1.0, 0.923620025673941)"
      ]
     },
     "execution_count": 14,
     "metadata": {},
     "output_type": "execute_result"
    }
   ],
   "source": [
    "# Import the RandomForestClassifier estimator class\n",
    "#from sklearn.model_selection import cross_val_score\n",
    "from sklearn.ensemble import RandomForestClassifier\n",
    "from sklearn.model_selection import train_test_split\n",
    "\n",
    "# Setup random seed\n",
    "np.random.seed(42)\n",
    "\n",
    "# Make the data\n",
    "#x = cleaned_fights.drop(\"Winner\", axis=1)\n",
    "#y = cleaned_fights[\"Winner\"]\n",
    "\n",
    "# Split the data \n",
    "x_train, x_test, y_train, y_test =train_test_split(transformed_x, y, test_size=0.2)\n",
    "\n",
    "# Instantiate Random Forest Classifier\n",
    "clf = RandomForestClassifier()\n",
    "\n",
    "# Fit the model to the data (training the machine learning model)\n",
    "clf.fit(x_train, y_train)\n",
    "\n",
    "# Evaluate the Randfom Forest Classifier (use the patterns the model has learned)\n",
    "clf.score(x_train, y_train),clf.score(x_test, y_test)\n",
    "\n",
    "#cross_val_score = cross_val_score(clf, x, y)\n",
    "#print(f\"Cross Validated Accuracy is {cross_val_score}%\")"
   ]
  },
  {
   "cell_type": "code",
   "execution_count": 15,
   "id": "ce62c202-f0b8-46f1-a3ae-c94dc6fdf0c8",
   "metadata": {},
   "outputs": [
    {
     "data": {
      "text/plain": [
       "array([[0., 0., 0., ..., 0., 0., 0.],\n",
       "       [0., 0., 0., ..., 0., 0., 0.],\n",
       "       [0., 0., 0., ..., 0., 0., 0.],\n",
       "       [0., 0., 0., ..., 0., 0., 0.],\n",
       "       [0., 0., 0., ..., 0., 0., 0.]])"
      ]
     },
     "execution_count": 15,
     "metadata": {},
     "output_type": "execute_result"
    }
   ],
   "source": [
    "clf.predict_proba(transformed_x[:5])"
   ]
  },
  {
   "cell_type": "code",
   "execution_count": 16,
   "id": "0fda5b39-2333-4d31-8fb7-68d8b9c44153",
   "metadata": {},
   "outputs": [
    {
     "data": {
      "text/plain": [
       "array(['Alexandre Pantoja', 'Shavkat Rakhmonov', 'Ciryl Gane', ...,\n",
       "       'Jon Hess', 'Guy Mezger', 'Dave Beneteau'], dtype=object)"
      ]
     },
     "execution_count": 16,
     "metadata": {},
     "output_type": "execute_result"
    }
   ],
   "source": [
    "clf.predict(transformed_x)"
   ]
  },
  {
   "cell_type": "code",
   "execution_count": 102,
   "id": "57ff0b54-6031-4be7-9b21-35a2161dd824",
   "metadata": {},
   "outputs": [
    {
     "name": "stdout",
     "output_type": "stream",
     "text": [
      "Model saved to C:\\Users\\cadeb\\Code\\ML-Models\\UFC-Models\\UFC_fight_predictor_MK2.pk1\n"
     ]
    }
   ],
   "source": [
    "import os\n",
    "import pickle\n",
    "\n",
    "# Define the path to the Models directory\n",
    "models_directory = r'C:\\Users\\cadeb\\Code\\ML-Models\\UFC-Models'\n",
    "\n",
    "# Ensure the directory exists\n",
    "os.makedirs(models_directory, exist_ok=True)\n",
    "\n",
    "# Define the path for saving the model\n",
    "model_path = os.path.join(models_directory, 'UFC_fight_predictor_MK2.pk1')  # When saving a model just increase the MK number by 1\n",
    "\n",
    "# Save the model to the Models folder\n",
    "pickle.dump(clf, open(model_path, \"wb\"))\n",
    "\n",
    "print(f\"Model saved to {model_path}\")"
   ]
  },
  {
   "cell_type": "code",
   "execution_count": 103,
   "id": "217b0eb4-bef5-43ec-a062-5531ffd97f79",
   "metadata": {},
   "outputs": [],
   "source": [
    "# If I want to load this model again\n",
    "#loaded_model = pickle.load(open(\"random_forest_model1.pk1\", \"rb\"))\n",
    "#loaded_model.score(x_test, y_test)"
   ]
  }
 ],
 "metadata": {
  "kernelspec": {
   "display_name": "Python 3 (ipykernel)",
   "language": "python",
   "name": "python3"
  },
  "language_info": {
   "codemirror_mode": {
    "name": "ipython",
    "version": 3
   },
   "file_extension": ".py",
   "mimetype": "text/x-python",
   "name": "python",
   "nbconvert_exporter": "python",
   "pygments_lexer": "ipython3",
   "version": "3.12.7"
  }
 },
 "nbformat": 4,
 "nbformat_minor": 5
}
